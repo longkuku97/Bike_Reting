{
 "cells": [
  {
   "cell_type": "code",
   "execution_count": 28,
   "metadata": {},
   "outputs": [],
   "source": [
    "#Build Database\n",
    "import sqlite3\n",
    "with sqlite3.connect(\"bikeRenting.db\") as db:\n",
    "    data = db.cursor()"
   ]
  },
  {
   "cell_type": "code",
   "execution_count": 29,
   "metadata": {},
   "outputs": [
    {
     "data": {
      "text/plain": [
       "<sqlite3.Cursor at 0x7f81607d3260>"
      ]
     },
     "execution_count": 29,
     "metadata": {},
     "output_type": "execute_result"
    }
   ],
   "source": [
    "#Create table for customer\n",
    "#Name do not to be real name. Bank means bank account.\n",
    "data.execute(\"\"\"CREATE TABLE CUSTOMERS(CUST_ID TEXT PRIMARY KEY,\n",
    "NAME text NOT NULL, PHONE text,BANK text, BANLANCE REAL\n",
    ");\"\"\")"
   ]
  },
  {
   "cell_type": "code",
   "execution_count": 31,
   "metadata": {
    "scrolled": true
   },
   "outputs": [
    {
     "data": {
      "text/plain": [
       "<sqlite3.Cursor at 0x7f81607d3260>"
      ]
     },
     "execution_count": 31,
     "metadata": {},
     "output_type": "execute_result"
    }
   ],
   "source": [
    "#Create table for Bike information\n",
    "data.execute(\"\"\"CREATE TABLE BIKE(BIKE_ID TEXT PRIMARY KEY,\n",
    "STATUS BOOLEAN NOT NULL, LOCATION TEXT \n",
    ");\"\"\")"
   ]
  },
  {
   "cell_type": "code",
   "execution_count": 32,
   "metadata": {},
   "outputs": [
    {
     "data": {
      "text/plain": [
       "<sqlite3.Cursor at 0x7f81607d3260>"
      ]
     },
     "execution_count": 32,
     "metadata": {},
     "output_type": "execute_result"
    }
   ],
   "source": [
    "#Create table for Order\n",
    "data.execute(\"\"\"CREATE TABLE ORDER_ALL(ORDER_ID INTEGER PRIMARY KEY,\n",
    "BIKE_ID TEXT,CUST_ID TEXT,STATUS BOOLEAN NOT NULL, PAY BOOLEAN NOT NULL, START TEXT NOT NULL,\n",
    "END TEXT, AMOUNT REAL\n",
    ");\"\"\")\n",
    "\n"
   ]
  },
  {
   "cell_type": "code",
   "execution_count": 33,
   "metadata": {},
   "outputs": [
    {
     "data": {
      "text/plain": [
       "<sqlite3.Cursor at 0x7f81607d3260>"
      ]
     },
     "execution_count": 33,
     "metadata": {},
     "output_type": "execute_result"
    }
   ],
   "source": [
    "#Create table for defected information\n",
    "data.execute(\"\"\"CREATE TABLE REPORT(REPORT_ID INTEGER PRIMARY KEY,\n",
    "CUST_ID TEXT, BIKE_ID TEXT,CHARACTER INTEGER NOT NULL, MESSAGE TEXT, TIME TEXT, STATUS BOOLEAN\n",
    ")\"\"\")"
   ]
  },
  {
   "cell_type": "code",
   "execution_count": 34,
   "metadata": {},
   "outputs": [],
   "source": [
    "#Major funtion\n",
    "def add_customer():\n",
    "    pass\n",
    "def update_bank():\n",
    "    pass\n",
    "def update_banlance():\n",
    "    pass\n",
    "    \n",
    "def add_bike():\n",
    "    pass\n",
    "def update_bike_status():\n",
    "    pass\n",
    "def update_bike_location():\n",
    "    pass\n",
    "\n",
    "def add_oder():\n",
    "    pass\n",
    "def update_order_status():\n",
    "    pass\n",
    "def update_order_pay():\n",
    "    pass\n",
    "def update_order_end():\n",
    "    pass\n",
    "\n",
    "def add_defection():\n",
    "    pass\n",
    "def update_defect_status():\n",
    "    pass"
   ]
  },
  {
   "cell_type": "code",
   "execution_count": null,
   "metadata": {},
   "outputs": [],
   "source": []
  }
 ],
 "metadata": {
  "kernelspec": {
   "display_name": "Python 3",
   "language": "python",
   "name": "python3"
  },
  "language_info": {
   "codemirror_mode": {
    "name": "ipython",
    "version": 3
   },
   "file_extension": ".py",
   "mimetype": "text/x-python",
   "name": "python",
   "nbconvert_exporter": "python",
   "pygments_lexer": "ipython3",
   "version": "3.7.3"
  }
 },
 "nbformat": 4,
 "nbformat_minor": 2
}
